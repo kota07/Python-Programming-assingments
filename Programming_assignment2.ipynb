{
 "cells": [
  {
   "cell_type": "markdown",
   "id": "e1efa765",
   "metadata": {},
   "source": [
    "1.Write a Python program to convert kilometers to miles?"
   ]
  },
  {
   "cell_type": "code",
   "execution_count": 6,
   "id": "d2a34daa",
   "metadata": {},
   "outputs": [
    {
     "name": "stdout",
     "output_type": "stream",
     "text": [
      "enter kilometers : 5\n",
      "the miles value is 3.106855\n"
     ]
    }
   ],
   "source": [
    "kilometers = float(input(\"enter kilometers : \"))\n",
    "\n",
    "# conversion factor\n",
    "con_fa = 0.621371\n",
    "\n",
    "# convert miles to kilometers\n",
    "miles = kilometers * con_fa\n",
    "\n",
    "print(\"the miles value is {}\".format(miles))"
   ]
  },
  {
   "cell_type": "markdown",
   "id": "55fc0831",
   "metadata": {},
   "source": [
    "2.Write a Python program to convert Celsius to Fahrenheit?"
   ]
  },
  {
   "cell_type": "code",
   "execution_count": 8,
   "id": "df26ceb4",
   "metadata": {},
   "outputs": [
    {
     "name": "stdout",
     "output_type": "stream",
     "text": [
      "enter celsuis : 44.5\n",
      "44.5 of Celsius is convert to 112.10000000000001 fahrenhit\n"
     ]
    }
   ],
   "source": [
    "Celsius = float(input(\"enter celsuis : \"))\n",
    "\n",
    "# convert celsius to fahrenhit\n",
    "fahernheit = (Celsius * 1.8) + 32\n",
    "\n",
    "print(\"{} of Celsius is convert to {} fahrenhit\" .format(Celsius,fahernheit))"
   ]
  },
  {
   "cell_type": "markdown",
   "id": "1e29021e",
   "metadata": {},
   "source": [
    "3.Write a Python program to display calendar?"
   ]
  },
  {
   "cell_type": "code",
   "execution_count": 10,
   "id": "54fc2ff7",
   "metadata": {},
   "outputs": [
    {
     "name": "stdout",
     "output_type": "stream",
     "text": [
      "enter the year : 2022\n",
      "enter the mpnth : 5\n",
      "      May 2022\n",
      "Mo Tu We Th Fr Sa Su\n",
      "                   1\n",
      " 2  3  4  5  6  7  8\n",
      " 9 10 11 12 13 14 15\n",
      "16 17 18 19 20 21 22\n",
      "23 24 25 26 27 28 29\n",
      "30 31\n",
      "\n"
     ]
    }
   ],
   "source": [
    "import calendar\n",
    "\n",
    "# enter the year and month to display \n",
    "yy = int(input(\"enter the year : \" ))\n",
    "mm = int(input(\"enter the mpnth : \"))\n",
    "\n",
    "# display the calender\n",
    "print(calendar.month(yy,mm))"
   ]
  },
  {
   "cell_type": "markdown",
   "id": "1a94b0fe",
   "metadata": {},
   "source": [
    "4.Write a Python program to solve quadratic equation?"
   ]
  },
  {
   "cell_type": "code",
   "execution_count": 12,
   "id": "6b3fe961",
   "metadata": {},
   "outputs": [
    {
     "name": "stdout",
     "output_type": "stream",
     "text": [
      "enter a no : 5\n",
      "enter b no : 4\n",
      "enter c no : 3\n",
      "The quadratic solution is (-0.4-0.6633249580710799j) , (-0.4+0.6633249580710799j)\n"
     ]
    }
   ],
   "source": [
    "## General formula for quadratic equation = ax2 + bx + c = 0\n",
    "import cmath\n",
    "\n",
    "a = int(input(\"enter a no : \"))\n",
    "b = int(input(\"enter b no : \"))\n",
    "c = int(input(\"enter c no : \"))\n",
    "\n",
    "d = b**2 - 4*a*c\n",
    "\n",
    "sol1 = (-b-cmath.sqrt(d))/(2*a)\n",
    "sol2 = (-b+cmath.sqrt(d))/(2*a)\n",
    "\n",
    "print(\"The quadratic solution is {} , {}\".format(sol1,sol2))"
   ]
  },
  {
   "cell_type": "markdown",
   "id": "600aa452",
   "metadata": {},
   "source": [
    "5.Write a Python program to swap two variables without temp variable?"
   ]
  },
  {
   "cell_type": "code",
   "execution_count": 14,
   "id": "7c64d5c3",
   "metadata": {},
   "outputs": [
    {
     "name": "stdout",
     "output_type": "stream",
     "text": [
      "enter x : 10\n",
      "enter y : 20\n",
      "x : 20 \n",
      "y : 10 \n"
     ]
    }
   ],
   "source": [
    "x = int(input(\"enter x : \"))\n",
    "y = int(input(\"enter y : \"))\n",
    "\n",
    "x,y = y,x\n",
    "\n",
    "print(\"x : {} \".format(x))\n",
    "print(\"y : {} \".format(y))"
   ]
  },
  {
   "cell_type": "code",
   "execution_count": null,
   "id": "53dd0a83",
   "metadata": {},
   "outputs": [],
   "source": []
  }
 ],
 "metadata": {
  "kernelspec": {
   "display_name": "Python 3 (ipykernel)",
   "language": "python",
   "name": "python3"
  },
  "language_info": {
   "codemirror_mode": {
    "name": "ipython",
    "version": 3
   },
   "file_extension": ".py",
   "mimetype": "text/x-python",
   "name": "python",
   "nbconvert_exporter": "python",
   "pygments_lexer": "ipython3",
   "version": "3.9.7"
  }
 },
 "nbformat": 4,
 "nbformat_minor": 5
}
